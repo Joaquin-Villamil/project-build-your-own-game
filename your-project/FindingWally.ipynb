{
 "cells": [
  {
   "cell_type": "code",
   "execution_count": 17,
   "metadata": {},
   "outputs": [
    {
     "name": "stdin",
     "output_type": "stream",
     "text": [
      "            ───▄▀▀▀▄▄▄▄▄▄▄▀▀▀▄───\n",
      "            ───█▒▒░░░░░░░░░▒▒█───\n",
      "            ────█░░█░░░░░█░░█────\n",
      "            ─▄▄──█░░░▀█▀░░░█──▄▄─\n",
      "            █░░█─▀▄░░░░░░░▄▀─█░░█\n",
      "            █▀▀▀▀▀▀▀▀▀▀▀▀▀▀▀▀▀▀▀▀█\n",
      "            █░░╦─╦╔╗╦─╔╗╔╗╔╦╗╔╗░░█\n",
      "            █░░║║║╠─║─║─║║║║║╠─░░█\n",
      "            █░░╚╩╝╚╝╚╝╚╝╚╝╩─╩╚╝░░█\n",
      "            █▄▄▄▄▄▄▄▄▄▄▄▄▄▄▄▄▄▄▄▄█\n",
      "Please enter your name:  Joaquin\n"
     ]
    },
    {
     "name": "stdout",
     "output_type": "stream",
     "text": [
      "\n",
      "Welcome Joaquin\n",
      "Get ready to play Joaquin!\n",
      "In this game you will need to find 5 Times Willy! Good Luck!! ;)\n",
      "You should input the coordinates of the unique character in the matrix.\n",
      "Example of coordenates: 2,3\n",
      "\n"
     ]
    },
    {
     "name": "stdin",
     "output_type": "stream",
     "text": [
      "Press X and click enter to start playing... X\n"
     ]
    },
    {
     "name": "stdout",
     "output_type": "stream",
     "text": [
      "\n",
      "Game starts right now Joaquin!\n",
      "\n",
      "4 4\n",
      "   0  1  2  3\n",
      "0  S  S  S  S\n",
      "1  S  S  S  S\n",
      "2  S  S  S  5\n",
      "3  S  S  S  S\n"
     ]
    },
    {
     "name": "stdin",
     "output_type": "stream",
     "text": [
      "\n",
      "Please enter your coordinates:  3,2\n"
     ]
    },
    {
     "name": "stdout",
     "output_type": "stream",
     "text": [
      "\n",
      "Correct answer!!  3,2\n",
      "\n",
      "  Your SCORE from this round is:  97.02 \n",
      "  You took  2.98  seconds to answer\n"
     ]
    },
    {
     "name": "stdin",
     "output_type": "stream",
     "text": [
      "\n",
      "Press X and click enter to play level 2 X\n"
     ]
    },
    {
     "name": "stdout",
     "output_type": "stream",
     "text": [
      "\n",
      "Game # 2  starts right now Joaquin!\n",
      "\n",
      "8 8\n",
      "   0  1  2  3  4  5  6  7\n",
      "0  S  S  S  S  S  S  S  S\n",
      "1  S  S  S  S  S  S  S  S\n",
      "2  5  S  S  S  S  S  S  S\n",
      "3  S  S  S  S  S  S  S  S\n",
      "4  S  S  S  S  S  S  S  S\n",
      "5  S  S  S  S  S  S  S  S\n",
      "6  S  S  S  S  S  S  S  S\n",
      "7  S  S  S  S  S  S  S  S\n"
     ]
    },
    {
     "name": "stdin",
     "output_type": "stream",
     "text": [
      "\n",
      "Please enter your coordinates:  0,2\n"
     ]
    },
    {
     "name": "stdout",
     "output_type": "stream",
     "text": [
      "\n",
      "Correct answer!!  0,2\n",
      "\n",
      "  Your SCORE from this round is:  91.21 \n",
      "  You took  8.79  seconds to answer\n"
     ]
    },
    {
     "name": "stdin",
     "output_type": "stream",
     "text": [
      "\n",
      "Press X and click enter to play level 3 X\n"
     ]
    },
    {
     "name": "stdout",
     "output_type": "stream",
     "text": [
      "\n",
      "Game # 3  starts right now Joaquin!\n",
      "\n",
      "12 12\n",
      "    0  1  2  3  4  5  6  7  8  9 10 11\n",
      "0   S  S  S  S  S  S  S  S  S  S  S  S\n",
      "1   S  S  S  S  S  S  S  S  S  S  S  S\n",
      "2   S  S  S  S  S  S  S  S  S  S  S  S\n",
      "3   S  S  S  S  S  S  5  S  S  S  S  S\n",
      "4   S  S  S  S  S  S  S  S  S  S  S  S\n",
      "5   S  S  S  S  S  S  S  S  S  S  S  S\n",
      "6   S  S  S  S  S  S  S  S  S  S  S  S\n",
      "7   S  S  S  S  S  S  S  S  S  S  S  S\n",
      "8   S  S  S  S  S  S  S  S  S  S  S  S\n",
      "9   S  S  S  S  S  S  S  S  S  S  S  S\n",
      "10  S  S  S  S  S  S  S  S  S  S  S  S\n",
      "11  S  S  S  S  S  S  S  S  S  S  S  S\n"
     ]
    },
    {
     "name": "stdin",
     "output_type": "stream",
     "text": [
      "\n",
      "Please enter your coordinates:  6,3\n"
     ]
    },
    {
     "name": "stdout",
     "output_type": "stream",
     "text": [
      "\n",
      "Correct answer!!  6,3\n",
      "\n",
      "  Your SCORE from this round is:  90.28 \n",
      "  You took  9.72  seconds to answer\n"
     ]
    },
    {
     "name": "stdin",
     "output_type": "stream",
     "text": [
      "\n",
      "Press X and click enter to play level 4 X\n"
     ]
    },
    {
     "name": "stdout",
     "output_type": "stream",
     "text": [
      "\n",
      "Game # 4  starts right now Joaquin!\n",
      "\n",
      "16 16\n",
      "    0  1  2  3  4  5  6  7  8  9 10 11 12 13 14 15\n",
      "0   S  S  S  S  S  S  S  S  S  S  S  S  S  S  S  S\n",
      "1   S  S  S  S  S  S  S  S  S  S  S  S  S  S  S  S\n",
      "2   S  S  S  S  S  S  S  S  S  S  S  S  S  S  S  S\n",
      "3   S  S  S  S  S  S  S  S  S  S  S  S  S  S  S  S\n",
      "4   S  S  S  S  S  S  S  S  S  S  S  S  S  S  S  S\n",
      "5   S  S  S  S  S  S  S  S  S  S  S  S  S  S  S  S\n",
      "6   S  S  S  S  S  S  S  S  S  S  S  S  S  S  S  S\n",
      "7   S  S  S  S  5  S  S  S  S  S  S  S  S  S  S  S\n",
      "8   S  S  S  S  S  S  S  S  S  S  S  S  S  S  S  S\n",
      "9   S  S  S  S  S  S  S  S  S  S  S  S  S  S  S  S\n",
      "10  S  S  S  S  S  S  S  S  S  S  S  S  S  S  S  S\n",
      "11  S  S  S  S  S  S  S  S  S  S  S  S  S  S  S  S\n",
      "12  S  S  S  S  S  S  S  S  S  S  S  S  S  S  S  S\n",
      "13  S  S  S  S  S  S  S  S  S  S  S  S  S  S  S  S\n",
      "14  S  S  S  S  S  S  S  S  S  S  S  S  S  S  S  S\n",
      "15  S  S  S  S  S  S  S  S  S  S  S  S  S  S  S  S\n"
     ]
    },
    {
     "name": "stdin",
     "output_type": "stream",
     "text": [
      "\n",
      "Please enter your coordinates:  4,7\n"
     ]
    },
    {
     "name": "stdout",
     "output_type": "stream",
     "text": [
      "\n",
      "Correct answer!!  4,7\n",
      "\n",
      "  Your SCORE from this round is:  89.1 \n",
      "  You took  10.9  seconds to answer\n"
     ]
    },
    {
     "name": "stdin",
     "output_type": "stream",
     "text": [
      "\n",
      "Press X and click enter to play level 5 X\n"
     ]
    },
    {
     "name": "stdout",
     "output_type": "stream",
     "text": [
      "\n",
      "Game # 5  starts right now Joaquin!\n",
      "\n",
      "20 20\n",
      "    0  1  2  3  4  5  6  7  8  9 10 11 12 13 14 15 16 17 18 19\n",
      "0   S  S  S  S  S  S  S  S  S  S  S  S  S  S  S  S  S  S  S  S\n",
      "1   S  S  S  S  S  S  S  S  S  S  S  S  S  S  S  S  S  S  S  S\n",
      "2   S  S  S  S  S  S  S  S  S  S  S  S  S  S  S  S  S  S  S  S\n",
      "3   S  S  S  S  S  S  S  S  S  S  S  S  S  S  S  S  S  S  S  S\n",
      "4   S  S  S  S  S  S  S  S  S  S  S  S  S  S  S  S  S  S  S  S\n",
      "5   S  S  S  S  S  S  S  S  S  S  S  S  S  S  S  S  S  S  S  S\n",
      "6   S  S  S  S  S  S  S  S  S  S  S  S  S  S  S  S  S  S  S  S\n",
      "7   S  S  S  S  S  S  S  S  S  S  S  S  S  S  S  S  S  S  S  S\n",
      "8   S  S  S  S  S  S  S  S  S  S  S  S  S  S  S  S  S  S  S  S\n",
      "9   S  S  S  S  S  S  S  S  S  S  S  S  S  S  S  S  S  S  S  5\n",
      "10  S  S  S  S  S  S  S  S  S  S  S  S  S  S  S  S  S  S  S  S\n",
      "11  S  S  S  S  S  S  S  S  S  S  S  S  S  S  S  S  S  S  S  S\n",
      "12  S  S  S  S  S  S  S  S  S  S  S  S  S  S  S  S  S  S  S  S\n",
      "13  S  S  S  S  S  S  S  S  S  S  S  S  S  S  S  S  S  S  S  S\n",
      "14  S  S  S  S  S  S  S  S  S  S  S  S  S  S  S  S  S  S  S  S\n",
      "15  S  S  S  S  S  S  S  S  S  S  S  S  S  S  S  S  S  S  S  S\n",
      "16  S  S  S  S  S  S  S  S  S  S  S  S  S  S  S  S  S  S  S  S\n",
      "17  S  S  S  S  S  S  S  S  S  S  S  S  S  S  S  S  S  S  S  S\n",
      "18  S  S  S  S  S  S  S  S  S  S  S  S  S  S  S  S  S  S  S  S\n",
      "19  S  S  S  S  S  S  S  S  S  S  S  S  S  S  S  S  S  S  S  S\n"
     ]
    },
    {
     "name": "stdin",
     "output_type": "stream",
     "text": [
      "\n",
      "Please enter your coordinates:  1,1\n"
     ]
    },
    {
     "name": "stdout",
     "output_type": "stream",
     "text": [
      "\n",
      "Incorrect! The correct answer is: ( 19 , 9 )\n",
      "Your score from this round is:  0\n",
      "\n",
      "\n",
      "\n",
      "The game is Over!\n",
      "Your Total Score is:  367.61 \n",
      "Can you do better than that? ;)\n",
      "PLAY AGAIN!\n",
      "\n",
      "\n",
      "            Joaquin\n",
      "Level 1       97.02\n",
      "Level 2       91.21\n",
      "Level 3       90.28\n",
      "Level 4        89.1\n",
      "Level 5           0\n",
      "Total Score  367.61\n",
      "\n",
      "\n",
      "    ████████████████████████████████████████\n",
      "    ████████████████████████████████████████\n",
      "    ██████▀░░░░░░░░▀████████▀▀░░░░░░░▀██████\n",
      "    ████▀░░░░░░░░░░░░▀████▀░░░░░░░░░░░░▀████\n",
      "    ██▀░░░░░░░░░░░░░░░░▀▀░░░░░░░░░░░░░░░░▀██\n",
      "    ██░░░░░░░░░░░░░░░░░░░▄▄░░░░░░░░░░░░░░░██\n",
      "    ██░░░░░░░░░░░░░░░░░░█░█░░░░░░░░░░░░░░░██\n",
      "    ██░░░░░░░░░░░░░░░░░▄▀░█░░░░░░░░░░░░░░░██\n",
      "    ██░░░░░░░░░░████▄▄▄▀░░▀▀▀▀▄░░░░░░░░░░░██\n",
      "    ██▄░░░░░░░░░████░░░░░░░░░░█░░░░░░░░░░▄██\n",
      "    ████▄░░░░░░░████░░░░░░░░░░█░░░░░░░░▄████\n",
      "    ██████▄░░░░░████▄▄▄░░░░░░░█░░░░░░▄██████\n",
      "    ████████▄░░░▀▀▀▀░░░▀▀▀▀▀▀▀░░░░░▄████████\n",
      "    ██████████▄░░░░░░░░░░░░░░░░░░▄██████████\n",
      "    ████████████▄░░░░░░░░░░░░░░▄████████████\n",
      "    ██████████████▄░░░░░░░░░░▄██████████████\n",
      "    ████████████████▄░░░░░░▄████████████████\n",
      "    ██████████████████▄▄▄▄██████████████████\n",
      "    ████████████████████████████████████████\n",
      "    ████████████████████████████████████████\n",
      "\n"
     ]
    }
   ],
   "source": [
    "import time\n",
    "import re\n",
    "import pandas as pd\n",
    "import numpy as np\n",
    "import random as rd\n",
    "\n",
    "class Finding5Willys:\n",
    "    \n",
    "    def datos_user():\n",
    "        #print(\"Escribe tu nombre\")\n",
    "        #name = input()\n",
    "        a = None\n",
    "        while a == None:\n",
    "            user_name = input(\"\\\n",
    "            ───▄▀▀▀▄▄▄▄▄▄▄▀▀▀▄───\\n\\\n",
    "            ───█▒▒░░░░░░░░░▒▒█───\\n\\\n",
    "            ────█░░█░░░░░█░░█────\\n\\\n",
    "            ─▄▄──█░░░▀█▀░░░█──▄▄─\\n\\\n",
    "            █░░█─▀▄░░░░░░░▄▀─█░░█\\n\\\n",
    "            █▀▀▀▀▀▀▀▀▀▀▀▀▀▀▀▀▀▀▀▀█\\n\\\n",
    "            █░░╦─╦╔╗╦─╔╗╔╗╔╦╗╔╗░░█\\n\\\n",
    "            █░░║║║╠─║─║─║║║║║╠─░░█\\n\\\n",
    "            █░░╚╩╝╚╝╚╝╚╝╚╝╩─╩╚╝░░█\\n\\\n",
    "            █▄▄▄▄▄▄▄▄▄▄▄▄▄▄▄▄▄▄▄▄█\\nPlease enter your name: \")\n",
    "            a = re.match(\"^[A-Za-z]*$\", user_name)\n",
    "            if not re.match(\"^[A-Za-z]*$\", user_name):\n",
    "                print (\"Error! Make sure you only use letters in your name\")\n",
    "            else:\n",
    "                print(\"\\nWelcome \"+ user_name+\"\\nGet ready to play \"+user_name+\"!\")\n",
    "                print(\"In this game you will need to find 5 Times Willy! Good Luck!! ;)\")\n",
    "                print(\"You should input the coordinates of the unique character in the matrix.\\nExample of coordenates: 2,3\\n\")\n",
    "                fin = time.perf_counter()\n",
    "        niveles=1\n",
    "        \n",
    "        return user_name,fin,niveles\n",
    "    \n",
    "    def prepare_to_play(name):\n",
    "        b = None\n",
    "        while b == None:\n",
    "            ready = input(\"Press X and click enter to start playing...\")\n",
    "            b = re.match(\"X\", ready)\n",
    "            if not re.match(\"X\", ready):\n",
    "                print (\"Error! Make sure you type 'X'\")\n",
    "            else:\n",
    "                print(\"\\nGame starts right now \"+ name+\"!\\n\")\n",
    "    def prepare_to_playnext(name,lvl):\n",
    "        b = None\n",
    "        nivel = str(lvl)\n",
    "        while b == None:\n",
    "            ready = input(\"\\nPress X and click enter to play level \"+nivel)\n",
    "            b = re.match(\"X\", ready)\n",
    "            if not re.match(\"X\", ready):\n",
    "                print (\"Error! Make sure you type 'X'\")\n",
    "            else:\n",
    "                print(\"\\nGame #\",lvl,\" starts right now \"+ name+\"!\\n\")\n",
    "\n",
    "    def nivel(lvl):\n",
    "        level = lvl\n",
    "        if level == 1:\n",
    "            x=4\n",
    "            y=4\n",
    "        if level <6:\n",
    "            x=4*level\n",
    "            y=4*level\n",
    "            print(x,y)\n",
    "        return x,y,level\n",
    "    \n",
    "    def play(x,y):\n",
    "        x1=rd.randrange(x)\n",
    "        y1=rd.randrange(y)\n",
    "        arr3=np.empty((x,y),dtype=object)\n",
    "        arr3[:] = 'S'\n",
    "        arr3[y1,x1] = '5'\n",
    "        arrDF = pd.DataFrame(arr3)\n",
    "        print(arrDF)#,x1,y1)\n",
    "        time_start = time.perf_counter()\n",
    "        return x1,y1,time_start\n",
    "\n",
    "    def user_answer(x1,y1,start):\n",
    "        coord2 = None\n",
    "        time_start=float(start)\n",
    "        #time_end=0\n",
    "        time_elapsed=0\n",
    "        while coord2 == None:\n",
    "            coord = input(\"\\nPlease enter your coordinates: \")\n",
    "            coord2 = re.match(\"^[0-9]{1,2},[0-9]{1,2}\", coord)\n",
    "            time_end = time.perf_counter()\n",
    "            time_elapsed = round(time_end - time_start,2)\n",
    "            if not re.match(\"^[0-9]{1,2},[0-9]{1,2}\", coord):\n",
    "                print (\"Error! Make sure you type your coordinates correctly\\nExample: 3,2\")\n",
    "                print(coord2)\n",
    "            else:\n",
    "                score = round(100 - time_elapsed,2)\n",
    "                if coord2[0] == str(x1)+','+str(y1):\n",
    "                    print(\"\\nCorrect answer!! \", coord2[0])\n",
    "                    if score < 0:\n",
    "                        score=0\n",
    "                        print(\"\\n  Your SCORE from this round is: \",score,\"\\n  You took \",time_elapsed,\" seconds to answer\")\n",
    "                    else:\n",
    "                        print(\"\\n  Your SCORE from this round is: \",score,\"\\n  You took \",time_elapsed,\" seconds to answer\")\n",
    "                    return score, time_elapsed\n",
    "                else:\n",
    "                    score = 0\n",
    "                    print(\"\\nIncorrect! The correct answer is: (\", x1,\",\",y1,\")\")\n",
    "                    print(\"Your score from this round is: \",score)\n",
    "                    return score, time_elapsed\n",
    "\n",
    "    def user_score(name,score,level,scoreDF):\n",
    "        \n",
    "        if level == 1:\n",
    "            scoreDF.iloc[level-1,0]=score\n",
    "            return scoreDF\n",
    "        if level < 6:\n",
    "            scoreDF.iloc[level-1,0]=score\n",
    "            return scoreDF\n",
    "        if level == 6:\n",
    "            TotalScore=scoreDF.sum()\n",
    "            scoreDF.iloc[5,0]=TotalScore[0]\n",
    "            print(scoreDF)\n",
    "            return scoreDF,TotalScore[0]\n",
    "\n",
    "    User = datos_user()\n",
    "    scoreDF=pd.DataFrame(['0','0','0','0','0','0'],columns=[User[0]],index=['Level 1','Level 2','Level 3','Level 4','Level 5', 'Total Score'])\n",
    "    score=0\n",
    "    prepare_to_play(User[0])\n",
    "    Size = nivel(User[2])\n",
    "    Key = play(Size[0],Size[1])\n",
    "    Game = user_answer(Key[0],Key[1],Key[2])\n",
    "    level=1\n",
    "    scoreDF.iloc[level-1,0]=Game[0]\n",
    "    score+=Game[0]\n",
    "    level=2\n",
    "    while level<7:   \n",
    "        if level < 6:\n",
    "            prepare_to_playnext(User[0],level)\n",
    "            Size = nivel(level)\n",
    "            Key = play(Size[0],Size[1])\n",
    "            Game = user_answer(Key[0],Key[1],Key[2])\n",
    "            scoreDF.iloc[level-1,0]=Game[0]\n",
    "            score+=round(Game[0],2)\n",
    "            level+=1\n",
    "        if level ==6:\n",
    "            scoreDF.iloc[level-1,0]=score\n",
    "            level+=1\n",
    "\n",
    "    print('\\n\\n\\nThe game is Over!\\nYour Total Score is: ',round(score,2),'\\nCan you do better than that? ;)\\nPLAY AGAIN!\\n\\n')\n",
    "    print(scoreDF)\n",
    "    print(\"\\n\\n\\\n",
    "    ████████████████████████████████████████\\n\\\n",
    "    ████████████████████████████████████████\\n\\\n",
    "    ██████▀░░░░░░░░▀████████▀▀░░░░░░░▀██████\\n\\\n",
    "    ████▀░░░░░░░░░░░░▀████▀░░░░░░░░░░░░▀████\\n\\\n",
    "    ██▀░░░░░░░░░░░░░░░░▀▀░░░░░░░░░░░░░░░░▀██\\n\\\n",
    "    ██░░░░░░░░░░░░░░░░░░░▄▄░░░░░░░░░░░░░░░██\\n\\\n",
    "    ██░░░░░░░░░░░░░░░░░░█░█░░░░░░░░░░░░░░░██\\n\\\n",
    "    ██░░░░░░░░░░░░░░░░░▄▀░█░░░░░░░░░░░░░░░██\\n\\\n",
    "    ██░░░░░░░░░░████▄▄▄▀░░▀▀▀▀▄░░░░░░░░░░░██\\n\\\n",
    "    ██▄░░░░░░░░░████░░░░░░░░░░█░░░░░░░░░░▄██\\n\\\n",
    "    ████▄░░░░░░░████░░░░░░░░░░█░░░░░░░░▄████\\n\\\n",
    "    ██████▄░░░░░████▄▄▄░░░░░░░█░░░░░░▄██████\\n\\\n",
    "    ████████▄░░░▀▀▀▀░░░▀▀▀▀▀▀▀░░░░░▄████████\\n\\\n",
    "    ██████████▄░░░░░░░░░░░░░░░░░░▄██████████\\n\\\n",
    "    ████████████▄░░░░░░░░░░░░░░▄████████████\\n\\\n",
    "    ██████████████▄░░░░░░░░░░▄██████████████\\n\\\n",
    "    ████████████████▄░░░░░░▄████████████████\\n\\\n",
    "    ██████████████████▄▄▄▄██████████████████\\n\\\n",
    "    ████████████████████████████████████████\\n\\\n",
    "    ████████████████████████████████████████\\n\")"
   ]
  }
 ],
 "metadata": {
  "kernelspec": {
   "display_name": "Python 3",
   "language": "python",
   "name": "python3"
  },
  "language_info": {
   "codemirror_mode": {
    "name": "ipython",
    "version": 3
   },
   "file_extension": ".py",
   "mimetype": "text/x-python",
   "name": "python",
   "nbconvert_exporter": "python",
   "pygments_lexer": "ipython3",
   "version": "3.7.6"
  }
 },
 "nbformat": 4,
 "nbformat_minor": 4
}
