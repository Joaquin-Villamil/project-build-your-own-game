{
 "cells": [
  {
   "cell_type": "code",
   "execution_count": null,
   "metadata": {},
   "outputs": [],
   "source": []
  },
  {
   "cell_type": "code",
   "execution_count": 53,
   "metadata": {},
   "outputs": [
    {
     "name": "stdin",
     "output_type": "stream",
     "text": [
      "Please enter your name:  Joa\n"
     ]
    },
    {
     "name": "stdout",
     "output_type": "stream",
     "text": [
      "\n",
      "Welcome Joa\n",
      "Get ready to play Joa!\n",
      "You should input the coordenates of the unique character in the matrix.\n",
      "Example: 2,3\n",
      "\n"
     ]
    },
    {
     "name": "stdin",
     "output_type": "stream",
     "text": [
      "Press X and click enter to start playing... X\n"
     ]
    },
    {
     "name": "stdout",
     "output_type": "stream",
     "text": [
      "\n",
      "Game starts right now Joa!\n",
      "\n",
      "   0  1  2  3  4  5  6\n",
      "0  L  L  L  L  L  L  L\n",
      "1  L  L  L  L  L  L  L\n",
      "2  L  L  L  L  L  L  L\n",
      "3  L  L  L  L  L  L  L\n",
      "4  L  L  L  L  L  L  L\n",
      "5  L  L  L  L  L  H  L\n",
      "6  L  L  L  L  L  L  L 5 5\n"
     ]
    },
    {
     "name": "stdin",
     "output_type": "stream",
     "text": [
      "\n",
      "Please enter your coordinates:  5,5\n"
     ]
    },
    {
     "name": "stdout",
     "output_type": "stream",
     "text": [
      "\n",
      "Correct answer  5,5 \n",
      "  You took  3.11  seconds to answer\n",
      "Your score from this round is:  96.89\n"
     ]
    },
    {
     "name": "stdin",
     "output_type": "stream",
     "text": [
      "\n",
      "Press X and click enter to play level 2 X\n"
     ]
    },
    {
     "name": "stdout",
     "output_type": "stream",
     "text": [
      "\n",
      " 2  game starts right now Joa!\n",
      "\n",
      "   0  1  2  3  4  5  6\n",
      "0  L  L  L  L  L  L  L\n",
      "1  L  L  L  L  L  L  L\n",
      "2  L  H  L  L  L  L  L\n",
      "3  L  L  L  L  L  L  L\n",
      "4  L  L  L  L  L  L  L\n",
      "5  L  L  L  L  L  L  L\n",
      "6  L  L  L  L  L  L  L 1 2\n"
     ]
    },
    {
     "name": "stdin",
     "output_type": "stream",
     "text": [
      "\n",
      "Please enter your coordinates:  1,1\n"
     ]
    },
    {
     "name": "stdout",
     "output_type": "stream",
     "text": [
      "\n",
      "Incorrect! The correct answer is: ( 1 , 2 )\n",
      "Your score from this round is:  0\n"
     ]
    },
    {
     "name": "stdin",
     "output_type": "stream",
     "text": [
      "\n",
      "Press X and click enter to play level 3 X\n"
     ]
    },
    {
     "name": "stdout",
     "output_type": "stream",
     "text": [
      "\n",
      " 3  game starts right now Joa!\n",
      "\n",
      "   0  1  2  3  4  5  6\n",
      "0  L  L  L  L  L  L  L\n",
      "1  L  L  L  L  L  L  L\n",
      "2  L  L  L  L  L  L  L\n",
      "3  L  L  L  L  L  L  L\n",
      "4  L  L  L  L  L  L  L\n",
      "5  H  L  L  L  L  L  L\n",
      "6  L  L  L  L  L  L  L 0 5\n"
     ]
    },
    {
     "name": "stdin",
     "output_type": "stream",
     "text": [
      "\n",
      "Please enter your coordinates:  1,1\n"
     ]
    },
    {
     "name": "stdout",
     "output_type": "stream",
     "text": [
      "\n",
      "Incorrect! The correct answer is: ( 0 , 5 )\n",
      "Your score from this round is:  0\n"
     ]
    },
    {
     "name": "stdin",
     "output_type": "stream",
     "text": [
      "\n",
      "Press X and click enter to play level 4 X\n"
     ]
    },
    {
     "name": "stdout",
     "output_type": "stream",
     "text": [
      "\n",
      " 4  game starts right now Joa!\n",
      "\n",
      "   0  1  2  3  4  5  6\n",
      "0  L  L  L  L  L  L  L\n",
      "1  L  L  L  L  L  L  L\n",
      "2  L  L  L  L  L  L  L\n",
      "3  L  L  L  L  L  L  L\n",
      "4  L  L  L  L  L  L  L\n",
      "5  L  L  L  L  L  H  L\n",
      "6  L  L  L  L  L  L  L 5 5\n"
     ]
    },
    {
     "name": "stdin",
     "output_type": "stream",
     "text": [
      "\n",
      "Please enter your coordinates:  1,1\n"
     ]
    },
    {
     "name": "stdout",
     "output_type": "stream",
     "text": [
      "\n",
      "Incorrect! The correct answer is: ( 5 , 5 )\n",
      "Your score from this round is:  0\n"
     ]
    },
    {
     "name": "stdin",
     "output_type": "stream",
     "text": [
      "\n",
      "Press X and click enter to play level 5 X\n"
     ]
    },
    {
     "name": "stdout",
     "output_type": "stream",
     "text": [
      "\n",
      " 5  game starts right now Joa!\n",
      "\n",
      "   0  1  2  3  4  5  6\n",
      "0  L  L  L  L  L  L  L\n",
      "1  L  L  L  L  L  L  L\n",
      "2  L  L  L  L  L  L  L\n",
      "3  L  L  L  L  L  L  L\n",
      "4  L  L  L  L  L  L  L\n",
      "5  H  L  L  L  L  L  L\n",
      "6  L  L  L  L  L  L  L 0 5\n"
     ]
    },
    {
     "name": "stdin",
     "output_type": "stream",
     "text": [
      "\n",
      "Please enter your coordinates:  1,1\n"
     ]
    },
    {
     "name": "stdout",
     "output_type": "stream",
     "text": [
      "\n",
      "Incorrect! The correct answer is: ( 0 , 5 )\n",
      "Your score from this round is:  0\n",
      "\n",
      "\n",
      "The game is Over!\n",
      "\n",
      "Your Total Score is:  96.89 \n",
      "\n",
      "\n",
      "           Joa\n",
      "Round 1  96.89\n",
      "Round 2      0\n",
      "Round 3      0\n",
      "Round 4      0\n",
      "Round 5      0\n",
      "Total    96.89\n"
     ]
    }
   ],
   "source": [
    "import time\n",
    "import re\n",
    "import pandas as pd\n",
    "import numpy as np\n",
    "import random as rd\n",
    "\n",
    "class FindingWally:\n",
    "    \n",
    "    def ini_conteo():\n",
    "        ini = time.perf_counter()\n",
    "        return ini\n",
    "    \n",
    "    def datos_user():\n",
    "        #print(\"Escribe tu nombre\")\n",
    "        #name = input()\n",
    "        a = None\n",
    "        while a == None:\n",
    "            user_name = input(\"Please enter your name: \")\n",
    "            a = re.match(\"^[A-Za-z]*$\", user_name)\n",
    "            if not re.match(\"^[A-Za-z]*$\", user_name):\n",
    "                print (\"Error! Make sure you only use letters in your name\")\n",
    "            else:\n",
    "                print(\"\\nWelcome \"+ user_name+\"\\nGet ready to play \"+user_name+\"!\\nYou should input the coordenates of the unique character in the matrix.\\nExample: 2,3\\n\")\n",
    "                fin = time.perf_counter()\n",
    "        niveles=1\n",
    "        \n",
    "        return user_name,fin,niveles\n",
    "    \n",
    "    def prepare_to_play(name):\n",
    "        b = None\n",
    "        while b == None:\n",
    "            ready = input(\"Press X and click enter to start playing...\")\n",
    "            b = re.match(\"X\", ready)\n",
    "            if not re.match(\"X\", ready):\n",
    "                print (\"Error! Make sure you type 'X'\")\n",
    "            else:\n",
    "                print(\"\\nGame starts right now \"+ name+\"!\\n\")\n",
    "    def prepare_to_playnext(name,lvl):\n",
    "        b = None\n",
    "        nivel = str(lvl)\n",
    "        while b == None:\n",
    "            ready = input(\"\\nPress X and click enter to play level \"+nivel)\n",
    "            b = re.match(\"X\", ready)\n",
    "            if not re.match(\"X\", ready):\n",
    "                print (\"\\nError! Make sure you type 'X'\")\n",
    "            else:\n",
    "                print(\"\\n\",lvl,\" game starts right now \"+ name+\"!\\n\")\n",
    "\n",
    "    def nivel(lvl):\n",
    "        level = lvl\n",
    "        x=5\n",
    "        y=5\n",
    "        if level <6:\n",
    "            x+=2\n",
    "            y+=2\n",
    "        return x,y,level\n",
    "    \n",
    "    def play(x,y):\n",
    "        x1=rd.randrange(x)\n",
    "        y1=rd.randrange(y)\n",
    "        arr3=np.empty((x,y),dtype=object)\n",
    "        arr3[:] = 'L'\n",
    "        arr3[y1,x1] = 'H'\n",
    "        arrDF = pd.DataFrame(arr3)\n",
    "        print(arrDF,x1,y1)\n",
    "        time_start = time.perf_counter()\n",
    "        return x1,y1,time_start\n",
    "\n",
    "    def user_answer(x1,y1,start):\n",
    "        coord2 = None\n",
    "        time_start=float(start)\n",
    "        #time_end=0\n",
    "        time_elapsed=0\n",
    "        while coord2 == None:\n",
    "            coord = input(\"\\nPlease enter your coordinates: \")\n",
    "            coord2 = re.match(\"^[0-9],[0-9]\", coord)\n",
    "            time_end = time.perf_counter()\n",
    "            time_elapsed = round(time_end - time_start,2)\n",
    "            if not re.match(\"^[0-9],[0-9]\", coord):\n",
    "                print (\"Error! Make sure you type your coordinates correctly\\nExample: 3,2\")\n",
    "                print(coord2)\n",
    "            else:\n",
    "                score = 100 - time_elapsed\n",
    "                if coord2[0] == str(x1)+','+str(y1):\n",
    "                    print(\"\\nCorrect answer \", coord2[0],\"\\n  You took \",time_elapsed,\" seconds to answer\")\n",
    "                    if score < 0:\n",
    "                        score=0\n",
    "                    else:\n",
    "                        print(\"Your score from this round is: \",score)\n",
    "                    return score, time_elapsed\n",
    "                else:\n",
    "                    score = 0\n",
    "                    print(\"\\nIncorrect! The correct answer is: (\", x1,\",\",y1,\")\")\n",
    "                    print(\"Your score from this round is: \",score)\n",
    "                    return score, time_elapsed\n",
    "\n",
    "    def user_score(name,score,level,scoreDF):\n",
    "        \n",
    "        if level == 1:\n",
    "            scoreDF.iloc[level-1,0]=score\n",
    "            return scoreDF\n",
    "        if level < 6:\n",
    "            scoreDF.iloc[level-1,0]=score\n",
    "            return scoreDF\n",
    "        if level == 6:\n",
    "            TotalScore=scoreDF.sum()\n",
    "            scoreDF.iloc[5,0]=TotalScore[0]\n",
    "            print(scoreDF)\n",
    "            return scoreDF,TotalScore[0]\n",
    "    \n",
    "    def end_game(scoreDF):\n",
    "        z=0\n",
    "\n",
    "    def procesar(a,b,c):\n",
    "        dur = round(b - a,2)\n",
    "        print(\"Hola \", c, \" te tardaste en escribir tu nombre:\",dur ,\" segundos\")\n",
    "\n",
    "\n",
    "    User = datos_user()\n",
    "    scoreDF=pd.DataFrame(['0','0','0','0','0','0'],columns=[User[0]],index=['Round 1','Round 2','Round 3','Round 4','Round 5', 'Total'])\n",
    "    score=0\n",
    "    prepare_to_play(User[0])\n",
    "    Size = nivel(User[2])\n",
    "    Key = play(Size[0],Size[1])\n",
    "    Game = user_answer(Key[0],Key[1],Key[2])\n",
    "    level=1\n",
    "    scoreDF.iloc[level-1,0]=Game[0]\n",
    "    score+=Game[0]\n",
    "    level=2\n",
    "    while level<7:   \n",
    "        if level < 6:\n",
    "            prepare_to_playnext(User[0],level)\n",
    "            Size = nivel(level)\n",
    "            Key = play(Size[0],Size[1])\n",
    "            Game = user_answer(Key[0],Key[1],Key[2])\n",
    "            scoreDF.iloc[level-1,0]=Game[0]\n",
    "            score+=Game[0]\n",
    "            level+=1\n",
    "        if level ==6:\n",
    "            scoreDF.iloc[level-1,0]=score\n",
    "            level+=1\n",
    "\n",
    "    print('\\n\\nThe game is Over!\\n\\nYour Total Score is: ',score,'\\n\\n')\n",
    "    print(scoreDF)"
   ]
  },
  {
   "cell_type": "code",
   "execution_count": null,
   "metadata": {},
   "outputs": [],
   "source": []
  }
 ],
 "metadata": {
  "kernelspec": {
   "display_name": "Python 3",
   "language": "python",
   "name": "python3"
  },
  "language_info": {
   "codemirror_mode": {
    "name": "ipython",
    "version": 3
   },
   "file_extension": ".py",
   "mimetype": "text/x-python",
   "name": "python",
   "nbconvert_exporter": "python",
   "pygments_lexer": "ipython3",
   "version": "3.7.6"
  }
 },
 "nbformat": 4,
 "nbformat_minor": 4
}
